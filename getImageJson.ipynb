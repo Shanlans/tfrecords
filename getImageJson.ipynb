{
 "cells": [
  {
   "cell_type": "code",
   "execution_count": 4,
   "metadata": {},
   "outputs": [],
   "source": [
    "import json\n",
    "import os\n",
    "import numpy as np\n"
   ]
  },
  {
   "cell_type": "code",
   "execution_count": 5,
   "metadata": {},
   "outputs": [],
   "source": [
    "def get_train_list(path,trainPercentage=0.8):\n",
    "    f = []\n",
    "    l = []\n",
    "    assert (os.path.isdir(path) == True),\"path is not exist\"\n",
    "    for root,dirs,files in os.walk(path):\n",
    "        for i in files:\n",
    "            label = i.split('_')\n",
    "            if label[-1] == 'OK.png':\n",
    "                l.append('0')\n",
    "            else:\n",
    "                l.append('1')                    \n",
    "            f.append(os.path.join(root,i))\n",
    "    \n",
    "    temp = np.array([f,l])\n",
    "    temp=temp.transpose()\n",
    "    np.random.shuffle(temp)\n",
    "    f = list(temp[:,0])\n",
    "    l = list(temp[:,1])\n",
    "    trainList = 'train.txt'\n",
    "    testList = 'test.txt'\n",
    "    print('Total has %s'%len(f))\n",
    "    trainLen = int(len(f)*trainPercentage)\n",
    "    testLen = (len(f)-trainLen)\n",
    "    print('Train set has %s'%trainLen)\n",
    "    print('test set has %s'%testLen)\n",
    "    imageList = []\n",
    "    with open('train.json', 'w') as ff:\n",
    "        for i in range(trainLen):\n",
    "            image_data = {\n",
    "                            'filename' : f[i], \n",
    "                            'id' : str(i),\n",
    "                            'class' : \n",
    "                                    {'label' : l[i]\n",
    "                                    }\n",
    "                            }           \n",
    "            imageList.append(image_data)\n",
    "        jsonData = json.dumps(imageList)\n",
    "        json.dump(imageList, ff)\n",
    "    \n",
    "    imageList = []\n",
    "    with open('test.json', 'w') as ff:\n",
    "        for i in range(testLen):\n",
    "            image_data = {\"filename\" : f[trainLen+i], \"id\" : str(i),\"class\" : {\"label\" : l[trainLen+i]}}\n",
    "            imageList.append(image_data)\n",
    "        jsonData = json.dumps(imageList)\n",
    "        json.dump(imageList, ff)\n",
    "    "
   ]
  },
  {
   "cell_type": "code",
   "execution_count": 6,
   "metadata": {},
   "outputs": [
    {
     "name": "stdout",
     "output_type": "stream",
     "text": [
      "Total has 181332\n",
      "Train set has 145065\n",
      "test set has 36267\n"
     ]
    }
   ],
   "source": [
    "get_train_list('/home/shenshanlan/database/shuijingPatch01')"
   ]
  },
  {
   "cell_type": "code",
   "execution_count": null,
   "metadata": {},
   "outputs": [],
   "source": []
  }
 ],
 "metadata": {
  "kernelspec": {
   "display_name": "Python 3",
   "language": "python",
   "name": "python3"
  },
  "language_info": {
   "codemirror_mode": {
    "name": "ipython",
    "version": 3
   },
   "file_extension": ".py",
   "mimetype": "text/x-python",
   "name": "python",
   "nbconvert_exporter": "python",
   "pygments_lexer": "ipython3",
   "version": "3.6.5"
  }
 },
 "nbformat": 4,
 "nbformat_minor": 2
}
